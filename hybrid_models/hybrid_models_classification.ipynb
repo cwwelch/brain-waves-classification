{
 "cells": [
  {
   "cell_type": "markdown",
   "metadata": {},
   "source": [
    "# This model works with predicitng the classification"
   ]
  },
  {
   "cell_type": "markdown",
   "metadata": {},
   "source": [
    "1. 2D CNN (Custom) – EEG data\n",
    "2. EfficientNet – Spectrogram data\n",
    "3. XGBoost – Spectrogram data\n",
    "4. Random Forest – EEG data"
   ]
  },
  {
   "cell_type": "code",
   "execution_count": 2,
   "metadata": {},
   "outputs": [],
   "source": [
    "import numpy as np\n",
    "import pandas as pd\n",
    "import torch\n",
    "import torch.nn as nn\n",
    "import torch.nn.functional as F\n",
    "from sklearn.ensemble import RandomForestClassifier\n",
    "from sklearn.linear_model import LogisticRegression\n",
    "from sklearn.metrics import accuracy_score\n",
    "from sklearn.preprocessing import StandardScaler\n",
    "import xgboost as xgb\n",
    "from tensorflow.keras.models import Model\n",
    "from tensorflow.keras.layers import Input, GlobalAveragePooling2D, Dense, Dropout\n",
    "from tensorflow.keras.optimizers import Adam\n",
    "from tensorflow.keras.callbacks import EarlyStopping\n",
    "from tqdm import tqdm\n",
    "df = pd.read_csv(\"/Users/Patron/Documents/brain-waves-classification/hms_data/eeg_spect_full_features.csv\")"
   ]
  },
  {
   "cell_type": "code",
   "execution_count": 3,
   "metadata": {},
   "outputs": [],
   "source": [
    "from sklearn.preprocessing import LabelEncoder\n",
    "\n",
    "eeg_cols = [\n",
    "    'Fp1_median', 'Fp1_std', 'Fp1_min', 'Fp1_max',\n",
    "    'O1_median', 'O1_std', 'O1_min', 'O1_max',\n",
    "    'O2_median', 'O2_std', 'O2_min', 'O2_max',\n",
    "    'Fp2_median', 'Fp2_std', 'Fp2_min', 'Fp2_max'\n",
    "]\n",
    "\n",
    "spec_cols = [\n",
    "    'LL_median', 'LL_std', 'LL_min', 'LL_max',\n",
    "    'RL_median', 'RL_std', 'RL_min', 'RL_max',\n",
    "    'LP_median', 'LP_std', 'LP_min', 'LP_max',\n",
    "    'RP_median', 'RP_std', 'RP_min', 'RP_max'\n",
    "]\n",
    "\n",
    "# --- Features and target ---\n",
    "X_eeg = df[eeg_cols].values\n",
    "X_spect = df[spec_cols].values\n",
    "y_raw = df['expert_consensus'].values\n",
    "\n",
    "# --- Encode target labels (str -> int) ---\n",
    "le = LabelEncoder()\n",
    "y = le.fit_transform(y_raw)"
   ]
  },
  {
   "cell_type": "code",
   "execution_count": 5,
   "metadata": {},
   "outputs": [],
   "source": [
    "# --- Train/Test Split ---\n",
    "from sklearn.model_selection import train_test_split\n",
    "X_eeg_train, X_eeg_test, X_spect_train, X_spect_test, y_train, y_test = train_test_split(\n",
    "    X_eeg, X_spect, y, test_size=0.2, random_state=42, stratify=y\n",
    ")"
   ]
  },
  {
   "cell_type": "code",
   "execution_count": 6,
   "metadata": {},
   "outputs": [],
   "source": [
    "# Normalize EEG and Spectrogram data\n",
    "scaler_eeg = StandardScaler()\n",
    "X_eeg_train_scaled = scaler_eeg.fit_transform(X_eeg_train)\n",
    "X_eeg_test_scaled = scaler_eeg.transform(X_eeg_test)"
   ]
  },
  {
   "cell_type": "code",
   "execution_count": 7,
   "metadata": {},
   "outputs": [],
   "source": [
    "scaler_spec = StandardScaler()\n",
    "X_spect_train_scaled = scaler_spec.fit_transform(X_spect_train)\n",
    "X_spect_test_scaled = scaler_spec.transform(X_spect_test)"
   ]
  },
  {
   "cell_type": "code",
   "execution_count": 11,
   "metadata": {},
   "outputs": [],
   "source": [
    "# --- Spectrogram CNN Model (Keras EfficientNet-style) ---\n",
    "X_spect_train_img = X_spect_train_scaled.reshape(-1, 4, 4, 1)\n",
    "X_spect_test_img = X_spect_test_scaled.reshape(-1, 4, 4, 1)"
   ]
  },
  {
   "cell_type": "code",
   "execution_count": 12,
   "metadata": {},
   "outputs": [
    {
     "name": "stdout",
     "output_type": "stream",
     "text": [
      "Epoch 1/100\n",
      "\u001b[1m2403/2403\u001b[0m \u001b[32m━━━━━━━━━━━━━━━━━━━━\u001b[0m\u001b[37m\u001b[0m \u001b[1m1s\u001b[0m 456us/step - accuracy: 0.1929 - loss: 1.7826 - val_accuracy: 0.1967 - val_loss: 1.7781\n",
      "Epoch 2/100\n",
      "\u001b[1m2403/2403\u001b[0m \u001b[32m━━━━━━━━━━━━━━━━━━━━\u001b[0m\u001b[37m\u001b[0m \u001b[1m1s\u001b[0m 449us/step - accuracy: 0.2008 - loss: 1.7782 - val_accuracy: 0.1972 - val_loss: 1.7763\n",
      "Epoch 3/100\n",
      "\u001b[1m2403/2403\u001b[0m \u001b[32m━━━━━━━━━━━━━━━━━━━━\u001b[0m\u001b[37m\u001b[0m \u001b[1m1s\u001b[0m 432us/step - accuracy: 0.1990 - loss: 1.7763 - val_accuracy: 0.1982 - val_loss: 1.7753\n",
      "Epoch 4/100\n",
      "\u001b[1m2403/2403\u001b[0m \u001b[32m━━━━━━━━━━━━━━━━━━━━\u001b[0m\u001b[37m\u001b[0m \u001b[1m1s\u001b[0m 458us/step - accuracy: 0.2005 - loss: 1.7768 - val_accuracy: 0.1973 - val_loss: 1.7760\n",
      "Epoch 5/100\n",
      "\u001b[1m2403/2403\u001b[0m \u001b[32m━━━━━━━━━━━━━━━━━━━━\u001b[0m\u001b[37m\u001b[0m \u001b[1m1s\u001b[0m 427us/step - accuracy: 0.1993 - loss: 1.7763 - val_accuracy: 0.1929 - val_loss: 1.7745\n",
      "Epoch 6/100\n",
      "\u001b[1m2403/2403\u001b[0m \u001b[32m━━━━━━━━━━━━━━━━━━━━\u001b[0m\u001b[37m\u001b[0m \u001b[1m1s\u001b[0m 426us/step - accuracy: 0.1970 - loss: 1.7754 - val_accuracy: 0.1980 - val_loss: 1.7741\n",
      "Epoch 7/100\n",
      "\u001b[1m2403/2403\u001b[0m \u001b[32m━━━━━━━━━━━━━━━━━━━━\u001b[0m\u001b[37m\u001b[0m \u001b[1m1s\u001b[0m 430us/step - accuracy: 0.1976 - loss: 1.7752 - val_accuracy: 0.1972 - val_loss: 1.7743\n",
      "Epoch 8/100\n",
      "\u001b[1m2403/2403\u001b[0m \u001b[32m━━━━━━━━━━━━━━━━━━━━\u001b[0m\u001b[37m\u001b[0m \u001b[1m1s\u001b[0m 452us/step - accuracy: 0.2004 - loss: 1.7754 - val_accuracy: 0.1918 - val_loss: 1.7745\n",
      "Epoch 9/100\n",
      "\u001b[1m2403/2403\u001b[0m \u001b[32m━━━━━━━━━━━━━━━━━━━━\u001b[0m\u001b[37m\u001b[0m \u001b[1m1s\u001b[0m 430us/step - accuracy: 0.1999 - loss: 1.7758 - val_accuracy: 0.1970 - val_loss: 1.7728\n",
      "Epoch 10/100\n",
      "\u001b[1m2403/2403\u001b[0m \u001b[32m━━━━━━━━━━━━━━━━━━━━\u001b[0m\u001b[37m\u001b[0m \u001b[1m1s\u001b[0m 432us/step - accuracy: 0.2019 - loss: 1.7747 - val_accuracy: 0.1978 - val_loss: 1.7736\n",
      "Epoch 11/100\n",
      "\u001b[1m2403/2403\u001b[0m \u001b[32m━━━━━━━━━━━━━━━━━━━━\u001b[0m\u001b[37m\u001b[0m \u001b[1m1s\u001b[0m 431us/step - accuracy: 0.1985 - loss: 1.7755 - val_accuracy: 0.1970 - val_loss: 1.7729\n",
      "Epoch 12/100\n",
      "\u001b[1m2403/2403\u001b[0m \u001b[32m━━━━━━━━━━━━━━━━━━━━\u001b[0m\u001b[37m\u001b[0m \u001b[1m1s\u001b[0m 449us/step - accuracy: 0.1954 - loss: 1.7751 - val_accuracy: 0.1982 - val_loss: 1.7731\n",
      "Epoch 13/100\n",
      "\u001b[1m2403/2403\u001b[0m \u001b[32m━━━━━━━━━━━━━━━━━━━━\u001b[0m\u001b[37m\u001b[0m \u001b[1m1s\u001b[0m 417us/step - accuracy: 0.1977 - loss: 1.7745 - val_accuracy: 0.1980 - val_loss: 1.7725\n",
      "Epoch 14/100\n",
      "\u001b[1m2403/2403\u001b[0m \u001b[32m━━━━━━━━━━━━━━━━━━━━\u001b[0m\u001b[37m\u001b[0m \u001b[1m1s\u001b[0m 432us/step - accuracy: 0.2015 - loss: 1.7742 - val_accuracy: 0.2022 - val_loss: 1.7723\n",
      "Epoch 15/100\n",
      "\u001b[1m2403/2403\u001b[0m \u001b[32m━━━━━━━━━━━━━━━━━━━━\u001b[0m\u001b[37m\u001b[0m \u001b[1m1s\u001b[0m 437us/step - accuracy: 0.2002 - loss: 1.7740 - val_accuracy: 0.2113 - val_loss: 1.7724\n",
      "Epoch 16/100\n",
      "\u001b[1m2403/2403\u001b[0m \u001b[32m━━━━━━━━━━━━━━━━━━━━\u001b[0m\u001b[37m\u001b[0m \u001b[1m1s\u001b[0m 437us/step - accuracy: 0.1971 - loss: 1.7759 - val_accuracy: 0.1989 - val_loss: 1.7725\n",
      "Epoch 17/100\n",
      "\u001b[1m2403/2403\u001b[0m \u001b[32m━━━━━━━━━━━━━━━━━━━━\u001b[0m\u001b[37m\u001b[0m \u001b[1m1s\u001b[0m 428us/step - accuracy: 0.2006 - loss: 1.7747 - val_accuracy: 0.1982 - val_loss: 1.7723\n",
      "Epoch 18/100\n",
      "\u001b[1m2403/2403\u001b[0m \u001b[32m━━━━━━━━━━━━━━━━━━━━\u001b[0m\u001b[37m\u001b[0m \u001b[1m1s\u001b[0m 420us/step - accuracy: 0.1993 - loss: 1.7746 - val_accuracy: 0.2376 - val_loss: 1.7724\n",
      "Epoch 19/100\n",
      "\u001b[1m2403/2403\u001b[0m \u001b[32m━━━━━━━━━━━━━━━━━━━━\u001b[0m\u001b[37m\u001b[0m \u001b[1m1s\u001b[0m 443us/step - accuracy: 0.1989 - loss: 1.7746 - val_accuracy: 0.1982 - val_loss: 1.7721\n",
      "Epoch 20/100\n",
      "\u001b[1m2403/2403\u001b[0m \u001b[32m━━━━━━━━━━━━━━━━━━━━\u001b[0m\u001b[37m\u001b[0m \u001b[1m1s\u001b[0m 428us/step - accuracy: 0.1983 - loss: 1.7751 - val_accuracy: 0.1982 - val_loss: 1.7721\n",
      "Epoch 21/100\n",
      "\u001b[1m2403/2403\u001b[0m \u001b[32m━━━━━━━━━━━━━━━━━━━━\u001b[0m\u001b[37m\u001b[0m \u001b[1m1s\u001b[0m 438us/step - accuracy: 0.2020 - loss: 1.7745 - val_accuracy: 0.1982 - val_loss: 1.7721\n",
      "Epoch 22/100\n",
      "\u001b[1m2403/2403\u001b[0m \u001b[32m━━━━━━━━━━━━━━━━━━━━\u001b[0m\u001b[37m\u001b[0m \u001b[1m1s\u001b[0m 446us/step - accuracy: 0.1976 - loss: 1.7753 - val_accuracy: 0.1989 - val_loss: 1.7716\n",
      "Epoch 23/100\n",
      "\u001b[1m2403/2403\u001b[0m \u001b[32m━━━━━━━━━━━━━━━━━━━━\u001b[0m\u001b[37m\u001b[0m \u001b[1m1s\u001b[0m 431us/step - accuracy: 0.2013 - loss: 1.7738 - val_accuracy: 0.1952 - val_loss: 1.7720\n",
      "Epoch 24/100\n",
      "\u001b[1m2403/2403\u001b[0m \u001b[32m━━━━━━━━━━━━━━━━━━━━\u001b[0m\u001b[37m\u001b[0m \u001b[1m1s\u001b[0m 453us/step - accuracy: 0.1982 - loss: 1.7757 - val_accuracy: 0.1971 - val_loss: 1.7722\n",
      "Epoch 25/100\n",
      "\u001b[1m2403/2403\u001b[0m \u001b[32m━━━━━━━━━━━━━━━━━━━━\u001b[0m\u001b[37m\u001b[0m \u001b[1m1s\u001b[0m 431us/step - accuracy: 0.2008 - loss: 1.7734 - val_accuracy: 0.1980 - val_loss: 1.7717\n",
      "Epoch 26/100\n",
      "\u001b[1m2403/2403\u001b[0m \u001b[32m━━━━━━━━━━━━━━━━━━━━\u001b[0m\u001b[37m\u001b[0m \u001b[1m1s\u001b[0m 417us/step - accuracy: 0.2006 - loss: 1.7744 - val_accuracy: 0.1992 - val_loss: 1.7716\n",
      "Epoch 27/100\n",
      "\u001b[1m2403/2403\u001b[0m \u001b[32m━━━━━━━━━━━━━━━━━━━━\u001b[0m\u001b[37m\u001b[0m \u001b[1m1s\u001b[0m 426us/step - accuracy: 0.1989 - loss: 1.7753 - val_accuracy: 0.1978 - val_loss: 1.7723\n",
      "Epoch 28/100\n",
      "\u001b[1m2403/2403\u001b[0m \u001b[32m━━━━━━━━━━━━━━━━━━━━\u001b[0m\u001b[37m\u001b[0m \u001b[1m1s\u001b[0m 418us/step - accuracy: 0.1986 - loss: 1.7733 - val_accuracy: 0.2273 - val_loss: 1.7722\n",
      "Epoch 29/100\n",
      "\u001b[1m2403/2403\u001b[0m \u001b[32m━━━━━━━━━━━━━━━━━━━━\u001b[0m\u001b[37m\u001b[0m \u001b[1m1s\u001b[0m 448us/step - accuracy: 0.2008 - loss: 1.7738 - val_accuracy: 0.1982 - val_loss: 1.7716\n",
      "Epoch 30/100\n",
      "\u001b[1m2403/2403\u001b[0m \u001b[32m━━━━━━━━━━━━━━━━━━━━\u001b[0m\u001b[37m\u001b[0m \u001b[1m1s\u001b[0m 440us/step - accuracy: 0.2016 - loss: 1.7753 - val_accuracy: 0.2434 - val_loss: 1.7716\n",
      "Epoch 31/100\n",
      "\u001b[1m2403/2403\u001b[0m \u001b[32m━━━━━━━━━━━━━━━━━━━━\u001b[0m\u001b[37m\u001b[0m \u001b[1m1s\u001b[0m 410us/step - accuracy: 0.2008 - loss: 1.7740 - val_accuracy: 0.1994 - val_loss: 1.7721\n",
      "Epoch 32/100\n",
      "\u001b[1m2403/2403\u001b[0m \u001b[32m━━━━━━━━━━━━━━━━━━━━\u001b[0m\u001b[37m\u001b[0m \u001b[1m1s\u001b[0m 412us/step - accuracy: 0.1975 - loss: 1.7745 - val_accuracy: 0.1972 - val_loss: 1.7714\n",
      "Epoch 33/100\n",
      "\u001b[1m2403/2403\u001b[0m \u001b[32m━━━━━━━━━━━━━━━━━━━━\u001b[0m\u001b[37m\u001b[0m \u001b[1m1s\u001b[0m 427us/step - accuracy: 0.1975 - loss: 1.7735 - val_accuracy: 0.1980 - val_loss: 1.7715\n",
      "Epoch 34/100\n",
      "\u001b[1m2403/2403\u001b[0m \u001b[32m━━━━━━━━━━━━━━━━━━━━\u001b[0m\u001b[37m\u001b[0m \u001b[1m1s\u001b[0m 454us/step - accuracy: 0.2017 - loss: 1.7737 - val_accuracy: 0.2062 - val_loss: 1.7715\n",
      "Epoch 35/100\n",
      "\u001b[1m2403/2403\u001b[0m \u001b[32m━━━━━━━━━━━━━━━━━━━━\u001b[0m\u001b[37m\u001b[0m \u001b[1m1s\u001b[0m 431us/step - accuracy: 0.2006 - loss: 1.7749 - val_accuracy: 0.2022 - val_loss: 1.7718\n",
      "Epoch 36/100\n",
      "\u001b[1m2403/2403\u001b[0m \u001b[32m━━━━━━━━━━━━━━━━━━━━\u001b[0m\u001b[37m\u001b[0m \u001b[1m1s\u001b[0m 408us/step - accuracy: 0.2007 - loss: 1.7741 - val_accuracy: 0.1978 - val_loss: 1.7716\n",
      "Epoch 37/100\n",
      "\u001b[1m2403/2403\u001b[0m \u001b[32m━━━━━━━━━━━━━━━━━━━━\u001b[0m\u001b[37m\u001b[0m \u001b[1m1s\u001b[0m 408us/step - accuracy: 0.2026 - loss: 1.7735 - val_accuracy: 0.1980 - val_loss: 1.7715\n",
      "Epoch 38/100\n",
      "\u001b[1m2403/2403\u001b[0m \u001b[32m━━━━━━━━━━━━━━━━━━━━\u001b[0m\u001b[37m\u001b[0m \u001b[1m1s\u001b[0m 421us/step - accuracy: 0.1992 - loss: 1.7740 - val_accuracy: 0.2456 - val_loss: 1.7711\n",
      "Epoch 39/100\n",
      "\u001b[1m2403/2403\u001b[0m \u001b[32m━━━━━━━━━━━━━━━━━━━━\u001b[0m\u001b[37m\u001b[0m \u001b[1m1s\u001b[0m 450us/step - accuracy: 0.2037 - loss: 1.7737 - val_accuracy: 0.2468 - val_loss: 1.7718\n",
      "Epoch 40/100\n",
      "\u001b[1m2403/2403\u001b[0m \u001b[32m━━━━━━━━━━━━━━━━━━━━\u001b[0m\u001b[37m\u001b[0m \u001b[1m1s\u001b[0m 412us/step - accuracy: 0.2025 - loss: 1.7739 - val_accuracy: 0.1971 - val_loss: 1.7720\n",
      "Epoch 41/100\n",
      "\u001b[1m2403/2403\u001b[0m \u001b[32m━━━━━━━━━━━━━━━━━━━━\u001b[0m\u001b[37m\u001b[0m \u001b[1m1s\u001b[0m 408us/step - accuracy: 0.2016 - loss: 1.7739 - val_accuracy: 0.1934 - val_loss: 1.7734\n",
      "Epoch 42/100\n",
      "\u001b[1m2403/2403\u001b[0m \u001b[32m━━━━━━━━━━━━━━━━━━━━\u001b[0m\u001b[37m\u001b[0m \u001b[1m1s\u001b[0m 455us/step - accuracy: 0.1990 - loss: 1.7743 - val_accuracy: 0.1972 - val_loss: 1.7718\n",
      "Epoch 43/100\n",
      "\u001b[1m2403/2403\u001b[0m \u001b[32m━━━━━━━━━━━━━━━━━━━━\u001b[0m\u001b[37m\u001b[0m \u001b[1m1s\u001b[0m 419us/step - accuracy: 0.1992 - loss: 1.7738 - val_accuracy: 0.1979 - val_loss: 1.7710\n",
      "Epoch 44/100\n",
      "\u001b[1m2403/2403\u001b[0m \u001b[32m━━━━━━━━━━━━━━━━━━━━\u001b[0m\u001b[37m\u001b[0m \u001b[1m1s\u001b[0m 409us/step - accuracy: 0.2000 - loss: 1.7740 - val_accuracy: 0.1980 - val_loss: 1.7713\n",
      "Epoch 45/100\n",
      "\u001b[1m2403/2403\u001b[0m \u001b[32m━━━━━━━━━━━━━━━━━━━━\u001b[0m\u001b[37m\u001b[0m \u001b[1m1s\u001b[0m 427us/step - accuracy: 0.2033 - loss: 1.7740 - val_accuracy: 0.1969 - val_loss: 1.7720\n",
      "Epoch 46/100\n",
      "\u001b[1m2403/2403\u001b[0m \u001b[32m━━━━━━━━━━━━━━━━━━━━\u001b[0m\u001b[37m\u001b[0m \u001b[1m1s\u001b[0m 447us/step - accuracy: 0.2015 - loss: 1.7745 - val_accuracy: 0.1980 - val_loss: 1.7714\n",
      "Epoch 47/100\n",
      "\u001b[1m2403/2403\u001b[0m \u001b[32m━━━━━━━━━━━━━━━━━━━━\u001b[0m\u001b[37m\u001b[0m \u001b[1m1s\u001b[0m 411us/step - accuracy: 0.2017 - loss: 1.7739 - val_accuracy: 0.1967 - val_loss: 1.7719\n",
      "Epoch 48/100\n",
      "\u001b[1m2403/2403\u001b[0m \u001b[32m━━━━━━━━━━━━━━━━━━━━\u001b[0m\u001b[37m\u001b[0m \u001b[1m1s\u001b[0m 421us/step - accuracy: 0.2033 - loss: 1.7746 - val_accuracy: 0.1973 - val_loss: 1.7719\n",
      "Epoch 49/100\n",
      "\u001b[1m2403/2403\u001b[0m \u001b[32m━━━━━━━━━━━━━━━━━━━━\u001b[0m\u001b[37m\u001b[0m \u001b[1m1s\u001b[0m 457us/step - accuracy: 0.1995 - loss: 1.7735 - val_accuracy: 0.1978 - val_loss: 1.7727\n",
      "Epoch 50/100\n",
      "\u001b[1m2403/2403\u001b[0m \u001b[32m━━━━━━━━━━━━━━━━━━━━\u001b[0m\u001b[37m\u001b[0m \u001b[1m1s\u001b[0m 411us/step - accuracy: 0.2007 - loss: 1.7753 - val_accuracy: 0.2429 - val_loss: 1.7713\n",
      "Epoch 51/100\n",
      "\u001b[1m2403/2403\u001b[0m \u001b[32m━━━━━━━━━━━━━━━━━━━━\u001b[0m\u001b[37m\u001b[0m \u001b[1m1s\u001b[0m 412us/step - accuracy: 0.1987 - loss: 1.7744 - val_accuracy: 0.1971 - val_loss: 1.7717\n",
      "Epoch 52/100\n",
      "\u001b[1m2403/2403\u001b[0m \u001b[32m━━━━━━━━━━━━━━━━━━━━\u001b[0m\u001b[37m\u001b[0m \u001b[1m1s\u001b[0m 449us/step - accuracy: 0.2010 - loss: 1.7741 - val_accuracy: 0.1974 - val_loss: 1.7736\n",
      "Epoch 53/100\n",
      "\u001b[1m2403/2403\u001b[0m \u001b[32m━━━━━━━━━━━━━━━━━━━━\u001b[0m\u001b[37m\u001b[0m \u001b[1m1s\u001b[0m 452us/step - accuracy: 0.2015 - loss: 1.7737 - val_accuracy: 0.2379 - val_loss: 1.7711\n"
     ]
    },
    {
     "data": {
      "text/plain": [
       "<keras.src.callbacks.history.History at 0x327c0dfa0>"
      ]
     },
     "execution_count": 12,
     "metadata": {},
     "output_type": "execute_result"
    }
   ],
   "source": [
    "from tensorflow.keras.utils import to_categorical\n",
    "\n",
    "# OPTIONAL: If you prefer to use 'mse', convert y_train to one-hot:\n",
    "# y_train_cat = to_categorical(y_train, num_classes=6)\n",
    "\n",
    "input_img = Input(shape=(4, 4, 1))\n",
    "x = GlobalAveragePooling2D()(input_img)\n",
    "x = Dense(64, activation='relu')(x)\n",
    "x = Dropout(0.3)(x)\n",
    "output = Dense(6, activation='softmax')(x)  # Changed from 'linear'\n",
    "\n",
    "eff_model = Model(input_img, output)\n",
    "eff_model.compile(optimizer=Adam(0.001), loss='sparse_categorical_crossentropy', metrics=['accuracy'])  # Changed loss\n",
    "\n",
    "# Train the model\n",
    "eff_model.fit(\n",
    "    X_spect_train_img, y_train,  # y_train is fine as int labels now\n",
    "    epochs=100,\n",
    "    batch_size=32,\n",
    "    validation_split=0.1,\n",
    "    callbacks=[EarlyStopping(patience=10, restore_best_weights=True)],\n",
    "    verbose=1\n",
    ")\n"
   ]
  },
  {
   "cell_type": "code",
   "execution_count": null,
   "metadata": {},
   "outputs": [],
   "source": [
    "# EfficientNet-style predictions\n",
    "eff_preds_train = np.vstack([\n",
    "    eff_model.predict(np.expand_dims(X_spect_train_img[i], axis=0))\n",
    "    for i in tqdm(range(len(X_spect_train_img)), desc=\"EffNet Train Predict\")\n",
    "])\n",
    "eff_preds_test = np.vstack([\n",
    "    eff_model.predict(np.expand_dims(X_spect_test_img[i], axis=0))\n",
    "    for i in tqdm(range(len(X_spect_test_img)), desc=\"EffNet Test Predict\")\n",
    "])"
   ]
  },
  {
   "cell_type": "code",
   "execution_count": 14,
   "metadata": {},
   "outputs": [],
   "source": [
    "# --- EEG CNN (PyTorch) ---\n",
    "class EEG_CNN(nn.Module):\n",
    "    def __init__(self):\n",
    "        super().__init__()\n",
    "        self.conv1 = nn.Conv2d(1, 32, 2, stride=1, padding=1)\n",
    "        self.conv2 = nn.Conv2d(32, 64, 2, stride=1, padding=1)\n",
    "        dummy = torch.zeros(1, 1, 4, 4)\n",
    "        out = self._forward_conv(dummy)\n",
    "        self.fc1 = nn.Linear(out.view(1, -1).size(1), 128)\n",
    "        self.out = nn.Linear(128, 6)\n",
    "\n",
    "    def _forward_conv(self, x):\n",
    "        x = F.relu(self.conv1(x))\n",
    "        return F.relu(self.conv2(x))\n",
    "\n",
    "    def forward(self, x):\n",
    "        x = self._forward_conv(x)\n",
    "        x = x.view(x.size(0), -1)\n",
    "        x = F.relu(self.fc1(x))\n",
    "        return self.out(x)\n"
   ]
  },
  {
   "cell_type": "code",
   "execution_count": 15,
   "metadata": {},
   "outputs": [],
   "source": [
    "# Prepare tensors\n",
    "X_eeg_train_tensor = torch.tensor(X_eeg_train_scaled, dtype=torch.float32).view(-1, 1, 4, 4)\n",
    "X_eeg_test_tensor = torch.tensor(X_eeg_test_scaled, dtype=torch.float32).view(-1, 1, 4, 4)\n",
    "\n",
    "cnn_model = EEG_CNN()\n",
    "cnn_model.eval()\n",
    "\n",
    "# CNN Predictions with tqdm\n",
    "cnn_preds_train = []\n",
    "cnn_preds_test = []\n"
   ]
  },
  {
   "cell_type": "code",
   "execution_count": 16,
   "metadata": {},
   "outputs": [
    {
     "name": "stderr",
     "output_type": "stream",
     "text": [
      "CNN Train Prediction: 100%|██████████| 85440/85440 [00:05<00:00, 14377.30it/s]\n",
      "CNN Test Prediction: 100%|██████████| 21360/21360 [00:01<00:00, 14886.12it/s]\n"
     ]
    }
   ],
   "source": [
    "with torch.no_grad():\n",
    "    for i in tqdm(range(len(X_eeg_train_tensor)), desc=\"CNN Train Prediction\"):\n",
    "        out = cnn_model(X_eeg_train_tensor[i].unsqueeze(0))\n",
    "        cnn_preds_train.append(out.numpy())\n",
    "    for i in tqdm(range(len(X_eeg_test_tensor)), desc=\"CNN Test Prediction\"):\n",
    "        out = cnn_model(X_eeg_test_tensor[i].unsqueeze(0))\n",
    "        cnn_preds_test.append(out.numpy())\n",
    "\n",
    "cnn_preds_train = np.vstack(cnn_preds_train)\n",
    "cnn_preds_test = np.vstack(cnn_preds_test)\n"
   ]
  },
  {
   "cell_type": "code",
   "execution_count": 17,
   "metadata": {},
   "outputs": [
    {
     "name": "stderr",
     "output_type": "stream",
     "text": [
      "/Users/Patron/Library/Python/3.9/lib/python/site-packages/xgboost/core.py:158: UserWarning: [17:55:45] WARNING: /Users/runner/work/xgboost/xgboost/src/learner.cc:740: \n",
      "Parameters: { \"use_label_encoder\" } are not used.\n",
      "\n",
      "  warnings.warn(smsg, UserWarning)\n"
     ]
    }
   ],
   "source": [
    "# --- XGBoost on Spectrogram Data ---\n",
    "xgb_model = xgb.XGBClassifier(objective=\"multi:softprob\", num_class=6, eval_metric=\"mlogloss\", use_label_encoder=False)\n",
    "xgb_model.fit(X_spect_train_scaled, y_train)\n",
    "xgb_preds_train = xgb_model.predict_proba(X_spect_train_scaled)\n",
    "xgb_preds_test = xgb_model.predict_proba(X_spect_test_scaled)\n"
   ]
  },
  {
   "cell_type": "code",
   "execution_count": 18,
   "metadata": {},
   "outputs": [],
   "source": [
    "# --- Random Forest on EEG Data ---\n",
    "rf_model = RandomForestClassifier(n_estimators=100, random_state=42)\n",
    "rf_model.fit(X_eeg_train_scaled, y_train)\n",
    "rf_preds_train = rf_model.predict_proba(X_eeg_train_scaled)\n",
    "rf_preds_test = rf_model.predict_proba(X_eeg_test_scaled)\n"
   ]
  },
  {
   "cell_type": "code",
   "execution_count": 19,
   "metadata": {},
   "outputs": [],
   "source": [
    "# --- Final Ensemble ---\n",
    "X_train_ensemble = np.concatenate([cnn_preds_train, eff_preds_train, xgb_preds_train, rf_preds_train], axis=1)\n",
    "X_test_ensemble = np.concatenate([cnn_preds_test, eff_preds_test, xgb_preds_test, rf_preds_test], axis=1)\n"
   ]
  },
  {
   "cell_type": "code",
   "execution_count": 20,
   "metadata": {},
   "outputs": [
    {
     "name": "stderr",
     "output_type": "stream",
     "text": [
      "/Users/Patron/Library/Python/3.9/lib/python/site-packages/sklearn/linear_model/_logistic.py:1247: FutureWarning: 'multi_class' was deprecated in version 1.5 and will be removed in 1.7. From then on, it will always use 'multinomial'. Leave it to its default value to avoid this warning.\n",
      "  warnings.warn(\n"
     ]
    }
   ],
   "source": [
    "ensemble_model = LogisticRegression(max_iter=1000, multi_class='multinomial')\n",
    "ensemble_model.fit(X_train_ensemble, y_train)\n",
    "y_pred = ensemble_model.predict(X_test_ensemble)\n"
   ]
  },
  {
   "cell_type": "code",
   "execution_count": 21,
   "metadata": {},
   "outputs": [
    {
     "name": "stdout",
     "output_type": "stream",
     "text": [
      "✅ Ensemble Accuracy: 0.9401217228464419\n"
     ]
    }
   ],
   "source": [
    "acc = accuracy_score(y_test, y_pred)\n",
    "print(\"✅ Ensemble Accuracy:\", acc)"
   ]
  },
  {
   "cell_type": "code",
   "execution_count": 22,
   "metadata": {},
   "outputs": [
    {
     "name": "stdout",
     "output_type": "stream",
     "text": [
      "\n",
      "📊 Classification Report:\n",
      "\n",
      "              precision    recall  f1-score   support\n",
      "\n",
      "         GPD       0.97      0.96      0.97      3340\n",
      "        GRDA       0.98      0.97      0.98      3772\n",
      "         LPD       0.91      0.90      0.90      2971\n",
      "        LRDA       0.95      0.96      0.95      3328\n",
      "       Other       0.89      0.92      0.91      3762\n",
      "     Seizure       0.93      0.93      0.93      4187\n",
      "\n",
      "    accuracy                           0.94     21360\n",
      "   macro avg       0.94      0.94      0.94     21360\n",
      "weighted avg       0.94      0.94      0.94     21360\n",
      "\n"
     ]
    },
    {
     "data": {
      "image/png": "[encoded data removed]",
      "text/plain": [
       "<Figure size 800x600 with 2 Axes>"
      ]
     },
     "metadata": {},
     "output_type": "display_data"
    }
   ],
   "source": [
    "from sklearn.metrics import confusion_matrix, classification_report\n",
    "import seaborn as sns\n",
    "import matplotlib.pyplot as plt\n",
    "\n",
    "# Predict with the final ensemble model\n",
    "y_pred = ensemble_model.predict(X_test_ensemble)\n",
    "\n",
    "# Print Classification Report\n",
    "print(\"\\n📊 Classification Report:\\n\")\n",
    "print(classification_report(y_test, y_pred, target_names=le.classes_))\n",
    "\n",
    "# Confusion Matrix\n",
    "cm = confusion_matrix(y_test, y_pred)\n",
    "\n",
    "# Plot Confusion Matrix\n",
    "plt.figure(figsize=(8, 6))\n",
    "sns.heatmap(cm, annot=True, fmt='d', cmap='Blues', \n",
    "            xticklabels=le.classes_, yticklabels=le.classes_)\n",
    "plt.xlabel('Predicted')\n",
    "plt.ylabel('Actual')\n",
    "plt.title('Confusion Matrix')\n",
    "plt.show()"
   ]
  },
  {
   "cell_type": "code",
   "execution_count": null,
   "metadata": {},
   "outputs": [],
   "source": []
  },
  {
   "cell_type": "code",
   "execution_count": null,
   "metadata": {},
   "outputs": [],
   "source": []
  }
 ],
 "metadata": {
  "kernelspec": {
   "display_name": "Python 3",
   "language": "python",
   "name": "python3"
  },
  "language_info": {
   "codemirror_mode": {
    "name": "ipython",
    "version": 3
   },
   "file_extension": ".py",
   "mimetype": "text/x-python",
   "name": "python",
   "nbconvert_exporter": "python",
   "pygments_lexer": "ipython3",
   "version": "3.9.6"
  }
 },
 "nbformat": 4,
 "nbformat_minor": 2
}
